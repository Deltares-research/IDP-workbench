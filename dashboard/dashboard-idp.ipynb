{
 "cells": [
  {
   "cell_type": "markdown",
   "metadata": {},
   "source": [
    "## Python functionalities"
   ]
  },
  {
   "cell_type": "code",
   "execution_count": 1,
   "metadata": {},
   "outputs": [],
   "source": [
    "import pandas as pd\n",
    "from pathlib import Path\n",
    "import solara\n",
    "import matplotlib.pyplot as plt\n",
    "import folium\n",
    "import folium.plugins\n",
    "import solara\n",
    "\n",
    "\n",
    "def create_map(latitude, longitude):\n",
    "    map = folium.Map(location=[latitude, longitude], zoom_start=12)\n",
    "    display(map)\n",
    "\n"
   ]
  },
  {
   "cell_type": "code",
   "execution_count": 2,
   "metadata": {},
   "outputs": [
    {
     "name": "stdout",
     "output_type": "stream",
     "text": [
      "  short_name                                        description\n",
      "0     RCP2.6  A pathway that aims to limit global warming to...\n",
      "1     RCP4.5  A stabilization scenario where greenhouse gas ...\n",
      "2     RCP6.0  Similar to RCP4.5 but with less stringent clim...\n",
      "3     RCP8.5  A high greenhouse gas emissions scenario with ...\n"
     ]
    }
   ],
   "source": [
    "# RCP Scenarios data\n",
    "rcp_data = [\n",
    "    {\n",
    "        \"short_name\": \"RCP2.6\",\n",
    "        \"description\": \"A pathway that aims to limit global warming to below 2°C above pre-industrial levels, with significant reductions in greenhouse gas emissions.\"\n",
    "    },\n",
    "    {\n",
    "        \"short_name\": \"RCP4.5\",\n",
    "        \"description\": \"A stabilization scenario where greenhouse gas emissions peak around 2040 and then decline, leading to a moderate level of warming.\"\n",
    "    },\n",
    "    {\n",
    "        \"short_name\": \"RCP6.0\",\n",
    "        \"description\": \"Similar to RCP4.5 but with less stringent climate policies, leading to higher emissions and a moderate level of warming.\"\n",
    "    },\n",
    "    {\n",
    "        \"short_name\": \"RCP8.5\",\n",
    "        \"description\": \"A high greenhouse gas emissions scenario with continued reliance on fossil fuels, leading to significant global warming (potentially exceeding 4°C).\"\n",
    "    }\n",
    "]\n",
    "\n",
    "# Create a DataFrame\n",
    "rcp_df = pd.DataFrame(rcp_data)\n",
    "\n",
    "# Display the DataFrame\n",
    "print(rcp_df)"
   ]
  },
  {
   "cell_type": "markdown",
   "metadata": {},
   "source": [
    "## Solara app"
   ]
  },
  {
   "cell_type": "markdown",
   "metadata": {},
   "source": [
    "#### Visualize components"
   ]
  },
  {
   "cell_type": "code",
   "execution_count": 3,
   "metadata": {},
   "outputs": [
    {
     "data": {
      "application/vnd.jupyter.widget-view+json": {
       "model_id": "3c63352bad9a4ea3b372c8662b9731de",
       "version_major": 2,
       "version_minor": 0
      },
      "text/html": [
       "Cannot show widget. You probably want to rerun the code cell above (<i>Click in the code cell, and press Shift+Enter <kbd>⇧</kbd>+<kbd>↩</kbd></i>)."
      ],
      "text/plain": [
       "Cannot show ipywidgets in text"
      ]
     },
     "metadata": {},
     "output_type": "display_data"
    }
   ],
   "source": [
    "@solara.component\n",
    "def View():\n",
    "    latitude = 52.01  # Latitude for Delft\n",
    "    longitude = 4.36   # Longitude for Delft\n",
    "    create_map(latitude, longitude)\n",
    "\n",
    "View()"
   ]
  },
  {
   "cell_type": "markdown",
   "metadata": {},
   "source": [
    "#### Adding controls "
   ]
  },
  {
   "cell_type": "code",
   "execution_count": 4,
   "metadata": {},
   "outputs": [],
   "source": [
    "value_subsidence = solara.reactive(-20)\n",
    "scenarios = solara.reactive([\"RCP4.5\"])\n",
    "value_slr = solara.reactive(-2)\n",
    "value_glob_pop = solara.reactive(0)\n",
    "value_future_shoreline = solara.reactive(0)\n"
   ]
  },
  {
   "cell_type": "code",
   "execution_count": 5,
   "metadata": {},
   "outputs": [
    {
     "data": {
      "application/vnd.jupyter.widget-view+json": {
       "model_id": "542ebd7bca154920b92cfc0c772316da",
       "version_major": 2,
       "version_minor": 0
      },
      "text/html": [
       "Cannot show widget. You probably want to rerun the code cell above (<i>Click in the code cell, and press Shift+Enter <kbd>⇧</kbd>+<kbd>↩</kbd></i>)."
      ],
      "text/plain": [
       "Cannot show ipywidgets in text"
      ]
     },
     "metadata": {},
     "output_type": "display_data"
    }
   ],
   "source": [
    "@solara.component\n",
    "def Controls():\n",
    "\n",
    "    solara.Text(\"Subsidence\")\n",
    "    solara.SliderInt(\"\", value=value_subsidence, min=-20, max=0)\n",
    "\n",
    "    solara.Text(\"SLR\")\n",
    "    solara.SelectMultiple(\"Scenario\", all_values=[str(k) for k in rcp_df[\"short_name\"].unique().tolist()], values=scenarios)\n",
    "    solara.SliderInt(\"\", value=value_slr, min=-2, max=2)\n",
    "\n",
    "    solara.Text(\"Glob-pop\")\n",
    "    solara.SliderInt(\"\", value=value_glob_pop, min=0, max=3)\n",
    "\n",
    "    solara.Text(\"Future shoreline\")\n",
    "    solara.SliderInt(\"\", value=value_future_shoreline, min=1, max=100)\n",
    "\n",
    "Controls()"
   ]
  },
  {
   "cell_type": "markdown",
   "metadata": {},
   "source": [
    "#### Update variables though the python code"
   ]
  },
  {
   "cell_type": "code",
   "execution_count": 6,
   "metadata": {},
   "outputs": [],
   "source": [
    "# Note that we can read AND write reactive variables\n",
    "# scenarios.value = [*scenarios.value, \"RCP8.5\"]\n",
    "# value_future_shoreline.value = 0"
   ]
  },
  {
   "cell_type": "markdown",
   "metadata": {},
   "source": [
    "#### Combining the components"
   ]
  },
  {
   "cell_type": "code",
   "execution_count": 7,
   "metadata": {},
   "outputs": [
    {
     "data": {
      "application/vnd.jupyter.widget-view+json": {
       "model_id": "b691ea996bd54da5a9f8c5ff1fe6acfc",
       "version_major": 2,
       "version_minor": 0
      },
      "text/html": [
       "Cannot show widget. You probably want to rerun the code cell above (<i>Click in the code cell, and press Shift+Enter <kbd>⇧</kbd>+<kbd>↩</kbd></i>)."
      ],
      "text/plain": [
       "Cannot show ipywidgets in text"
      ]
     },
     "metadata": {},
     "output_type": "display_data"
    }
   ],
   "source": [
    "@solara.component\n",
    "def Page():\n",
    "    with solara.Sidebar():\n",
    "        Controls()\n",
    "    View()\n",
    "\n",
    "\n",
    "Page()"
   ]
  }
 ],
 "metadata": {
  "kernelspec": {
   "display_name": "solara-dashboard",
   "language": "python",
   "name": "python3"
  },
  "language_info": {
   "codemirror_mode": {
    "name": "ipython",
    "version": 3
   },
   "file_extension": ".py",
   "mimetype": "text/x-python",
   "name": "python",
   "nbconvert_exporter": "python",
   "pygments_lexer": "ipython3",
   "version": "3.13.0"
  }
 },
 "nbformat": 4,
 "nbformat_minor": 2
}
