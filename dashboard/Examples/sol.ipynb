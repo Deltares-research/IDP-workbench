{
 "cells": [
  {
   "cell_type": "code",
   "execution_count": 1,
   "id": "d2f9e54d-8d96-4c01-9aa4-3b6d4985aa6f",
   "metadata": {},
   "outputs": [
    {
     "data": {
      "application/vnd.jupyter.widget-view+json": {
       "model_id": "1d9d171d79d14e5298e30b6e74cd2ad7",
       "version_major": 2,
       "version_minor": 0
      },
      "text/html": [
       "Cannot show widget. You probably want to rerun the code cell above (<i>Click in the code cell, and press Shift+Enter <kbd>⇧</kbd>+<kbd>↩</kbd></i>)."
      ],
      "text/plain": [
       "Cannot show ipywidgets in text"
      ]
     },
     "metadata": {},
     "output_type": "display_data"
    }
   ],
   "source": [
    "from sol import Page\n",
    "display(Page())"
   ]
  },
  {
   "cell_type": "code",
   "execution_count": 2,
   "id": "31d79e10",
   "metadata": {},
   "outputs": [
    {
     "data": {
      "application/vnd.jupyter.widget-view+json": {
       "model_id": "27c3be01f67f444a9216f6e75b46c85d",
       "version_major": 2,
       "version_minor": 0
      },
      "text/html": [
       "Cannot show widget. You probably want to rerun the code cell above (<i>Click in the code cell, and press Shift+Enter <kbd>⇧</kbd>+<kbd>↩</kbd></i>)."
      ],
      "text/plain": [
       "Cannot show ipywidgets in text"
      ]
     },
     "metadata": {},
     "output_type": "display_data"
    }
   ],
   "source": [
    "import solara\n",
    "\n",
    "clicks = solara.reactive(5)\n",
    "\n",
    "\n",
    "@solara.component\n",
    "def Page():\n",
    "    def increase_clicks():\n",
    "        clicks.value += 1\n",
    "\n",
    "    solara.Button(label=f\"Clicked {clicks} times\", on_click=increase_clicks)\n",
    "\n",
    "# in the Jupyter notebook, uncomment the next line:\n",
    "display(Page())"
   ]
  }
 ],
 "metadata": {
  "kernelspec": {
   "display_name": "solara-env",
   "language": "python",
   "name": "python3"
  },
  "language_info": {
   "codemirror_mode": {
    "name": "ipython",
    "version": 3
   },
   "file_extension": ".py",
   "mimetype": "text/x-python",
   "name": "python",
   "nbconvert_exporter": "python",
   "pygments_lexer": "ipython3",
   "version": "3.13.0"
  }
 },
 "nbformat": 4,
 "nbformat_minor": 5
}
