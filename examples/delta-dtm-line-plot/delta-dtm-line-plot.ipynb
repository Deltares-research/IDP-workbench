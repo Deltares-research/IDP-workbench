{
 "cells": [
  {
   "cell_type": "markdown",
   "metadata": {},
   "source": [
    "# Setup\n",
    "\n",
    "Before this notebook can be run, the data (coclico STAC catalog) needs to be downloaded.\n",
    "This is done by running the following command in the terminal in the root of the repository:\n",
    "```\n",
    "cd examples/delta-dtm-line-plot && \\\n",
    "mkdir data && \\\n",
    "cd data && \\\n",
    "git clone -n --depth=1 --filter=tree:0 https://github.com/openearth/coclicodata.git && \\\n",
    "    cd coclicodata && \\\n",
    "    git sparse-checkout set --no-cone /current && \\\n",
    "    git checkout && \\\n",
    "    cd ..\n",
    "```\n",
    "\n",
    "This will create a `data` directory with the coclico STAC catalog next to this notebook."
   ]
  },
  {
   "cell_type": "code",
   "execution_count": 7,
   "metadata": {},
   "outputs": [],
   "source": [
    "import pystac_client\n",
    "import xarray\n",
    "import duckdb\n",
    "from pathlib import Path\n",
    "import pystac\n",
    "# create duckdb connection\n",
    "con = duckdb.connect(database=':memory:', read_only=False)\n"
   ]
  },
  {
   "cell_type": "code",
   "execution_count": 6,
   "metadata": {},
   "outputs": [
    {
     "name": "stderr",
     "output_type": "stream",
     "text": [
      "/Users/nathan/git/wolk/deltares/IDP-workbench/.venv/lib/python3.11/site-packages/pystac_client/client.py:191: NoConformsTo: Server does not advertise any conformance classes.\n",
      "  warnings.warn(NoConformsTo())\n",
      "/Users/nathan/git/wolk/deltares/IDP-workbench/.venv/lib/python3.11/site-packages/pystac_client/client.py:410: FallbackToPystac: Falling back to pystac. This might be slow.\n",
      "  self._warn_about_fallback(\"COLLECTIONS\", \"FEATURES\")\n"
     ]
    }
   ],
   "source": [
    "points = [\n",
    "   (52.042079, 4.175069),\n",
    "   (52.066497, 4.210707)\n",
    "]\n",
    "\n",
    "stac_catalog_location = Path(__vsc_ipynb_file__).parent / \"data\"/ \"coclicodata\" / \"current\" / \"catalog.json\"\n",
    "stac_catalog = pystac_client.Client.open(stac_catalog_location)\n",
    "delta_dtm_collection: pystac.Collection = stac_catalog.get_collection(\"deltares-delta-dtm\")"
   ]
  },
  {
   "cell_type": "code",
   "execution_count": 3,
   "metadata": {},
   "outputs": [
    {
     "name": "stderr",
     "output_type": "stream",
     "text": [
      "/Users/nathan/git/wolk/deltares/IDP-workbench/.venv/lib/python3.11/site-packages/pystac_client/collection_client.py:153: FallbackToPystac: Falling back to pystac. This might be slow.\n",
      "  root._warn_about_fallback(\"ITEM_SEARCH\")\n"
     ]
    }
   ],
   "source": [
    "all_items = [item for item in delta_dtm_collection.get_items()]\n"
   ]
  },
  {
   "cell_type": "code",
   "execution_count": 5,
   "metadata": {},
   "outputs": [
    {
     "name": "stdout",
     "output_type": "stream",
     "text": [
      "<Item id=DeltaDTM_v1_1_N00E006>\n"
     ]
    }
   ],
   "source": [
    "len(all_items)\n",
    "print(all_items[0])"
   ]
  },
  {
   "cell_type": "code",
   "execution_count": null,
   "metadata": {},
   "outputs": [],
   "source": [
    "# Global outline\n",
    "\n",
    "# Define start and end point for line\n",
    "\n",
    "# Get collection from STAC catalog\n",
    "\n",
    "# fetch items with chunks overlapping with the line\n",
    "delta_dtm_collection.\n",
    "# fetch data from items\n",
    "# merge data in xarray\n",
    "# slice data along bounding box of line\n",
    "# interpolate grid data along line\n",
    "# plot data"
   ]
  }
 ],
 "metadata": {
  "kernelspec": {
   "display_name": ".venv",
   "language": "python",
   "name": "python3"
  },
  "language_info": {
   "codemirror_mode": {
    "name": "ipython",
    "version": 3
   },
   "file_extension": ".py",
   "mimetype": "text/x-python",
   "name": "python",
   "nbconvert_exporter": "python",
   "pygments_lexer": "ipython3",
   "version": "3.11.9"
  }
 },
 "nbformat": 4,
 "nbformat_minor": 2
}
