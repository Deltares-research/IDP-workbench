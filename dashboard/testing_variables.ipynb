{
 "cells": [
  {
   "cell_type": "code",
   "execution_count": 4,
   "id": "fc05752a",
   "metadata": {},
   "outputs": [],
   "source": [
    "import solara\n",
    "import rioxarray as rio\n",
    "import pandas as pd\n",
    "import geopandas as gpd\n",
    "import leafmap\n",
    "import matplotlib.pyplot as plt\n",
    "import matplotlib.colors as mcolors\n",
    "import matplotlib as mpl\n",
    "import matplotlib.cm as cm\n",
    "\n",
    "# Funcitons\n",
    "# Function to filter geodatabase by region name (e.g. Ghana)\n",
    "def delta_filter(df, district_values):\n",
    "    df_dist = df.loc[df[\"Location\"].isin([district_values])]\n",
    "    return df_dist\n",
    "\n",
    "# Data\n",
    "# RCP description, bounding boxes of deltas, metadata of subsidence stac collection \n",
    "rcp_df = pd.read_csv(\"data/rcp_scenarios.csv\")\n",
    "bbox_gd = gpd.read_file(\"data/Deltas.geojson\")\n",
    "gdf_stac = gpd.read_file(\"data/stac_metadata.geojson\")\n"
   ]
  }
 ],
 "metadata": {
  "kernelspec": {
   "display_name": "solara-dashboard",
   "language": "python",
   "name": "python3"
  },
  "language_info": {
   "codemirror_mode": {
    "name": "ipython",
    "version": 3
   },
   "file_extension": ".py",
   "mimetype": "text/x-python",
   "name": "python",
   "nbconvert_exporter": "python",
   "pygments_lexer": "ipython3",
   "version": "3.13.0"
  }
 },
 "nbformat": 4,
 "nbformat_minor": 5
}
