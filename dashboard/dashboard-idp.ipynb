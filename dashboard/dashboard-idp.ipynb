{
 "cells": [
  {
   "cell_type": "markdown",
   "metadata": {},
   "source": [
    "## Python functionalities"
   ]
  },
  {
   "cell_type": "code",
   "execution_count": 1,
   "metadata": {},
   "outputs": [],
   "source": [
    "import pandas as pd\n",
    "from pathlib import Path\n",
    "import solara\n",
    "import matplotlib.pyplot as plt\n",
    "import folium\n",
    "import folium.plugins\n",
    "import solara\n",
    "\n",
    "\n",
    "def create_map(latitude, longitude):\n",
    "    map = folium.Map(location=[latitude, longitude], zoom_start=12)\n",
    "    display(map)\n",
    "\n"
   ]
  },
  {
   "cell_type": "code",
   "execution_count": 2,
   "metadata": {},
   "outputs": [
    {
     "name": "stdout",
     "output_type": "stream",
     "text": [
      "  short_name                                        description\n",
      "0     RCP2.6  A pathway that aims to limit global warming to...\n",
      "1     RCP4.5  A stabilization scenario where greenhouse gas ...\n",
      "2     RCP6.0  Similar to RCP4.5 but with less stringent clim...\n",
      "3     RCP8.5  A high greenhouse gas emissions scenario with ...\n"
     ]
    }
   ],
   "source": [
    "# RCP Scenarios data\n",
    "rcp_data = [\n",
    "    {\n",
    "        \"short_name\": \"RCP2.6\",\n",
    "        \"description\": \"A pathway that aims to limit global warming to below 2°C above pre-industrial levels, with significant reductions in greenhouse gas emissions.\"\n",
    "    },\n",
    "    {\n",
    "        \"short_name\": \"RCP4.5\",\n",
    "        \"description\": \"A stabilization scenario where greenhouse gas emissions peak around 2040 and then decline, leading to a moderate level of warming.\"\n",
    "    },\n",
    "    {\n",
    "        \"short_name\": \"RCP6.0\",\n",
    "        \"description\": \"Similar to RCP4.5 but with less stringent climate policies, leading to higher emissions and a moderate level of warming.\"\n",
    "    },\n",
    "    {\n",
    "        \"short_name\": \"RCP8.5\",\n",
    "        \"description\": \"A high greenhouse gas emissions scenario with continued reliance on fossil fuels, leading to significant global warming (potentially exceeding 4°C).\"\n",
    "    }\n",
    "]\n",
    "\n",
    "# Create a DataFrame\n",
    "rcp_df = pd.DataFrame(rcp_data)\n",
    "\n",
    "# Display the DataFrame\n",
    "print(rcp_df)"
   ]
  },
  {
   "cell_type": "markdown",
   "metadata": {},
   "source": [
    "## Solara app"
   ]
  },
  {
   "cell_type": "markdown",
   "metadata": {},
   "source": [
    "#### Visualize components"
   ]
  },
  {
   "cell_type": "code",
   "execution_count": 3,
   "metadata": {},
   "outputs": [
    {
     "data": {
      "application/vnd.jupyter.widget-view+json": {
       "model_id": "12b2df1e928a42db96e7924272385c1e",
       "version_major": 2,
       "version_minor": 0
      },
      "text/html": [
       "Cannot show widget. You probably want to rerun the code cell above (<i>Click in the code cell, and press Shift+Enter <kbd>⇧</kbd>+<kbd>↩</kbd></i>)."
      ],
      "text/plain": [
       "Cannot show ipywidgets in text"
      ]
     },
     "metadata": {},
     "output_type": "display_data"
    }
   ],
   "source": [
    "@solara.component\n",
    "def View():\n",
    "    latitude = 52.01  # Latitude for Delft\n",
    "    longitude = 4.36   # Longitude for Delft\n",
    "    create_map(latitude, longitude)\n",
    "\n",
    "View()"
   ]
  },
  {
   "cell_type": "markdown",
   "metadata": {},
   "source": [
    "#### Adding controls "
   ]
  },
  {
   "cell_type": "code",
   "execution_count": 4,
   "metadata": {},
   "outputs": [],
   "source": [
    "value_subsidence = solara.reactive(-20)\n",
    "scenarios = solara.reactive([\"RCP4.5\"])\n",
    "value_slr = solara.reactive(-2)\n",
    "value_glob_pop = solara.reactive(0)\n",
    "value_future_shoreline = solara.reactive(0)\n"
   ]
  },
  {
   "cell_type": "code",
   "execution_count": 5,
   "metadata": {},
   "outputs": [
    {
     "data": {
      "application/vnd.jupyter.widget-view+json": {
       "model_id": "df8048c13c404e3687534babb0f7aa87",
       "version_major": 2,
       "version_minor": 0
      },
      "text/html": [
       "Cannot show widget. You probably want to rerun the code cell above (<i>Click in the code cell, and press Shift+Enter <kbd>⇧</kbd>+<kbd>↩</kbd></i>)."
      ],
      "text/plain": [
       "Cannot show ipywidgets in text"
      ]
     },
     "metadata": {},
     "output_type": "display_data"
    }
   ],
   "source": [
    "@solara.component\n",
    "def Controls():\n",
    "\n",
    "    solara.Text(\"Subsidence\")\n",
    "    solara.SliderInt(\"\", value=value_subsidence, min=-20, max=0)\n",
    "\n",
    "    solara.Text(\"SLR\")\n",
    "    solara.SelectMultiple(\"Scenario\", all_values=[str(k) for k in rcp_df[\"short_name\"].unique().tolist()], values=scenarios)\n",
    "    solara.SliderInt(\"\", value=value_slr, min=-2, max=2)\n",
    "\n",
    "    solara.Text(\"Glob-pop\")\n",
    "    solara.SliderInt(\"\", value=value_glob_pop, min=0, max=3)\n",
    "\n",
    "    solara.Text(\"Future shoreline\")\n",
    "    solara.SliderInt(\"\", value=value_future_shoreline, min=1, max=100)\n",
    "\n",
    "Controls()"
   ]
  },
  {
   "cell_type": "markdown",
   "metadata": {},
   "source": [
    "#### Update variables though the python code"
   ]
  },
  {
   "cell_type": "code",
   "execution_count": 6,
   "metadata": {},
   "outputs": [],
   "source": [
    "# Note that we can read AND write reactive variables\n",
    "# scenarios.value = [*scenarios.value, \"RCP8.5\"]\n",
    "# value_future_shoreline.value = 0"
   ]
  },
  {
   "cell_type": "markdown",
   "metadata": {},
   "source": [
    "#### Combining the components"
   ]
  },
  {
   "cell_type": "code",
   "execution_count": 7,
   "metadata": {},
   "outputs": [
    {
     "data": {
      "application/vnd.jupyter.widget-view+json": {
       "model_id": "d3a118f6fccf483cb43a96868eaa68a7",
       "version_major": 2,
       "version_minor": 0
      },
      "text/html": [
       "Cannot show widget. You probably want to rerun the code cell above (<i>Click in the code cell, and press Shift+Enter <kbd>⇧</kbd>+<kbd>↩</kbd></i>)."
      ],
      "text/plain": [
       "Cannot show ipywidgets in text"
      ]
     },
     "metadata": {},
     "output_type": "display_data"
    }
   ],
   "source": [
    "@solara.component\n",
    "def Page():\n",
    "    with solara.Sidebar():\n",
    "        Controls()\n",
    "    View()\n",
    "\n",
    "\n",
    "Page()"
   ]
  },
  {
   "cell_type": "code",
   "execution_count": 8,
   "metadata": {},
   "outputs": [
    {
     "data": {
      "text/html": [
       "<div style=\"width:100%;\"><div style=\"position:relative;width:100%;height:0;padding-bottom:60%;\"><span style=\"color:#565656\">Make this Notebook Trusted to load map: File -> Trust Notebook</span><iframe srcdoc=\"&lt;!DOCTYPE html&gt;\n",
       "&lt;html&gt;\n",
       "&lt;head&gt;\n",
       "    \n",
       "    &lt;meta http-equiv=&quot;content-type&quot; content=&quot;text/html; charset=UTF-8&quot; /&gt;\n",
       "    \n",
       "        &lt;script&gt;\n",
       "            L_NO_TOUCH = false;\n",
       "            L_DISABLE_3D = false;\n",
       "        &lt;/script&gt;\n",
       "    \n",
       "    &lt;style&gt;html, body {width: 100%;height: 100%;margin: 0;padding: 0;}&lt;/style&gt;\n",
       "    &lt;style&gt;#map {position:absolute;top:0;bottom:0;right:0;left:0;}&lt;/style&gt;\n",
       "    &lt;script src=&quot;https://cdn.jsdelivr.net/npm/leaflet@1.9.3/dist/leaflet.js&quot;&gt;&lt;/script&gt;\n",
       "    &lt;script src=&quot;https://code.jquery.com/jquery-3.7.1.min.js&quot;&gt;&lt;/script&gt;\n",
       "    &lt;script src=&quot;https://cdn.jsdelivr.net/npm/bootstrap@5.2.2/dist/js/bootstrap.bundle.min.js&quot;&gt;&lt;/script&gt;\n",
       "    &lt;script src=&quot;https://cdnjs.cloudflare.com/ajax/libs/Leaflet.awesome-markers/2.0.2/leaflet.awesome-markers.js&quot;&gt;&lt;/script&gt;\n",
       "    &lt;link rel=&quot;stylesheet&quot; href=&quot;https://cdn.jsdelivr.net/npm/leaflet@1.9.3/dist/leaflet.css&quot;/&gt;\n",
       "    &lt;link rel=&quot;stylesheet&quot; href=&quot;https://cdn.jsdelivr.net/npm/bootstrap@5.2.2/dist/css/bootstrap.min.css&quot;/&gt;\n",
       "    &lt;link rel=&quot;stylesheet&quot; href=&quot;https://netdna.bootstrapcdn.com/bootstrap/3.0.0/css/bootstrap-glyphicons.css&quot;/&gt;\n",
       "    &lt;link rel=&quot;stylesheet&quot; href=&quot;https://cdn.jsdelivr.net/npm/@fortawesome/fontawesome-free@6.2.0/css/all.min.css&quot;/&gt;\n",
       "    &lt;link rel=&quot;stylesheet&quot; href=&quot;https://cdnjs.cloudflare.com/ajax/libs/Leaflet.awesome-markers/2.0.2/leaflet.awesome-markers.css&quot;/&gt;\n",
       "    &lt;link rel=&quot;stylesheet&quot; href=&quot;https://cdn.jsdelivr.net/gh/python-visualization/folium/folium/templates/leaflet.awesome.rotate.min.css&quot;/&gt;\n",
       "    \n",
       "            &lt;meta name=&quot;viewport&quot; content=&quot;width=device-width,\n",
       "                initial-scale=1.0, maximum-scale=1.0, user-scalable=no&quot; /&gt;\n",
       "            &lt;style&gt;\n",
       "                #map_6eddf8d0b4392570468c8d4254818f93 {\n",
       "                    position: relative;\n",
       "                    width: 100.0%;\n",
       "                    height: 100.0%;\n",
       "                    left: 0.0%;\n",
       "                    top: 0.0%;\n",
       "                }\n",
       "                .leaflet-container { font-size: 1rem; }\n",
       "            &lt;/style&gt;\n",
       "        \n",
       "&lt;/head&gt;\n",
       "&lt;body&gt;\n",
       "    \n",
       "    \n",
       "            &lt;div class=&quot;folium-map&quot; id=&quot;map_6eddf8d0b4392570468c8d4254818f93&quot; &gt;&lt;/div&gt;\n",
       "        \n",
       "&lt;/body&gt;\n",
       "&lt;script&gt;\n",
       "    \n",
       "    \n",
       "            var map_6eddf8d0b4392570468c8d4254818f93 = L.map(\n",
       "                &quot;map_6eddf8d0b4392570468c8d4254818f93&quot;,\n",
       "                {\n",
       "                    center: [52.01, 4.36],\n",
       "                    crs: L.CRS.EPSG3857,\n",
       "                    zoom: 12,\n",
       "                    zoomControl: true,\n",
       "                    preferCanvas: false,\n",
       "                }\n",
       "            );\n",
       "\n",
       "            \n",
       "\n",
       "        \n",
       "    \n",
       "            var tile_layer_a7def2892156df1987fb5c84ee317ffc = L.tileLayer(\n",
       "                &quot;https://tile.openstreetmap.org/{z}/{x}/{y}.png&quot;,\n",
       "                {&quot;attribution&quot;: &quot;\\u0026copy; \\u003ca href=\\&quot;https://www.openstreetmap.org/copyright\\&quot;\\u003eOpenStreetMap\\u003c/a\\u003e contributors&quot;, &quot;detectRetina&quot;: false, &quot;maxNativeZoom&quot;: 19, &quot;maxZoom&quot;: 19, &quot;minZoom&quot;: 0, &quot;noWrap&quot;: false, &quot;opacity&quot;: 1, &quot;subdomains&quot;: &quot;abc&quot;, &quot;tms&quot;: false}\n",
       "            );\n",
       "        \n",
       "    \n",
       "            tile_layer_a7def2892156df1987fb5c84ee317ffc.addTo(map_6eddf8d0b4392570468c8d4254818f93);\n",
       "        \n",
       "    \n",
       "            var tile_layer_cddb9a834007a4ec4202bd3b4411f0bf = L.tileLayer(\n",
       "                &quot;https://your-stac-endpoint-url/raster.tif&quot;,\n",
       "                {&quot;attribution&quot;: &quot;STAC Raster Layer&quot;, &quot;detectRetina&quot;: false, &quot;maxZoom&quot;: 18, &quot;minZoom&quot;: 0, &quot;noWrap&quot;: false, &quot;opacity&quot;: 1, &quot;subdomains&quot;: &quot;abc&quot;, &quot;tms&quot;: false}\n",
       "            );\n",
       "        \n",
       "    \n",
       "            tile_layer_cddb9a834007a4ec4202bd3b4411f0bf.addTo(map_6eddf8d0b4392570468c8d4254818f93);\n",
       "        \n",
       "    \n",
       "            var layer_control_16de5c7ad280a1982656b15ebe613544_layers = {\n",
       "                base_layers : {\n",
       "                    &quot;openstreetmap&quot; : tile_layer_a7def2892156df1987fb5c84ee317ffc,\n",
       "                },\n",
       "                overlays :  {\n",
       "                    &quot;STAC Raster&quot; : tile_layer_cddb9a834007a4ec4202bd3b4411f0bf,\n",
       "                },\n",
       "            };\n",
       "            let layer_control_16de5c7ad280a1982656b15ebe613544 = L.control.layers(\n",
       "                layer_control_16de5c7ad280a1982656b15ebe613544_layers.base_layers,\n",
       "                layer_control_16de5c7ad280a1982656b15ebe613544_layers.overlays,\n",
       "                {&quot;autoZIndex&quot;: true, &quot;collapsed&quot;: true, &quot;position&quot;: &quot;topright&quot;}\n",
       "            ).addTo(map_6eddf8d0b4392570468c8d4254818f93);\n",
       "\n",
       "        \n",
       "    \n",
       "            tile_layer_a7def2892156df1987fb5c84ee317ffc.addTo(map_6eddf8d0b4392570468c8d4254818f93);\n",
       "        \n",
       "    \n",
       "            tile_layer_cddb9a834007a4ec4202bd3b4411f0bf.addTo(map_6eddf8d0b4392570468c8d4254818f93);\n",
       "        \n",
       "&lt;/script&gt;\n",
       "&lt;/html&gt;\" style=\"position:absolute;width:100%;height:100%;left:0;top:0;border:none !important;\" allowfullscreen webkitallowfullscreen mozallowfullscreen></iframe></div></div>"
      ],
      "text/plain": [
       "<folium.folium.Map at 0x25aa9f1a3f0>"
      ]
     },
     "execution_count": 8,
     "metadata": {},
     "output_type": "execute_result"
    }
   ],
   "source": [
    "import folium\n",
    "from folium.raster_layers import TileLayer\n",
    "\n",
    "# Create a base map\n",
    "m = folium.Map(location=[52.01, 4.36], zoom_start=12)  # Centered on Delft\n",
    "\n",
    "# URL to the STAC raster layer (replace with a valid STAC URL)\n",
    "stac_raster_url = 'https://your-stac-endpoint-url/raster.tif'\n",
    "\n",
    "# Add the STAC raster layer\n",
    "TileLayer(\n",
    "    tiles=stac_raster_url,\n",
    "    attr='STAC Raster Layer',\n",
    "    name='STAC Raster',\n",
    "    overlay=True,\n",
    "    control=True\n",
    ").add_to(m)\n",
    "\n",
    "# Add Layer Control\n",
    "folium.LayerControl().add_to(m)\n",
    "\n",
    "# Save to an HTML file or display in Jupyter Notebook\n",
    "m.save('map.html')\n",
    "m\n"
   ]
  }
 ],
 "metadata": {
  "kernelspec": {
   "display_name": "solara-dashboard",
   "language": "python",
   "name": "python3"
  },
  "language_info": {
   "codemirror_mode": {
    "name": "ipython",
    "version": 3
   },
   "file_extension": ".py",
   "mimetype": "text/x-python",
   "name": "python",
   "nbconvert_exporter": "python",
   "pygments_lexer": "ipython3",
   "version": "3.13.0"
  }
 },
 "nbformat": 4,
 "nbformat_minor": 2
}
